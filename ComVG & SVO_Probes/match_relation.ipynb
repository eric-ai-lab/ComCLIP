{
 "cells": [
  {
   "cell_type": "code",
   "execution_count": null,
   "metadata": {},
   "outputs": [],
   "source": [
    "import pandas as pd\n",
    "import os\n",
    "import openai\n",
    "import json\n",
    "openai.api_key = \"********\"\n",
    "dense_caption_path = \"/path/to/folder/{}.json\"\n",
    "dataset_csv_path = \"/path/to/dataset/data.csv\"\n",
    "matched_json_file_save_path = \"../comvg-matching/sentence_{}_image_{}.json\""
   ]
  },
  {
   "cell_type": "code",
   "execution_count": null,
   "metadata": {},
   "outputs": [],
   "source": [
    "data = pd.read_csv(dataset_csv_path)"
   ]
  },
  {
   "cell_type": "code",
   "execution_count": 6,
   "metadata": {},
   "outputs": [],
   "source": [
    "def get_dense_caption(image_id):\n",
    "    f = open(dense_caption_path.format(image_id))\n",
    "    result = list(json.load(f).keys())\n",
    "    return result"
   ]
  },
  {
   "cell_type": "code",
   "execution_count": 7,
   "metadata": {},
   "outputs": [],
   "source": [
    "def match_objects(sentence, object, list):\n",
    "    try:\n",
    "        input = \"Given a list of labels in triple quotes \\\"\\\"\\\"{}\\\"\\\"\\\" \".format(list) + \\\n",
    "                \"and a sentence in triple quotes \\\"\\\"\\\"{}\\\"\\\"\\\". Tell me which labels in the list could refer to \".format(sentence) + \\\n",
    "                \"the \\\"{}\\\" from the sentence. Only output the results in json format with 1 key named labels. If none of the labels refer to the \\\"{}\\\", set the value in the json to be an empty list\".format(object, object)\n",
    "        completion = openai.ChatCompletion.create(model=\"gpt-3.5-turbo\", messages=[{\"role\": \"user\", \"content\": input}], temperature=0)\n",
    "        return json.loads(completion[\"choices\"][0][\"message\"][\"content\"])\n",
    "    except Exception as e:\n",
    "        return {\"labels\":[]}\n",
    "def generate_caption_to_image(caption, obejct_list, image_list):\n",
    "    result = {}\n",
    "    for obj in obejct_list:\n",
    "        result[obj] = match_objects(caption, obj, image_list)[\"labels\"]\n",
    "    return result"
   ]
  },
  {
   "cell_type": "code",
   "execution_count": null,
   "metadata": {},
   "outputs": [],
   "source": [
    "for idx, row in data.iterrows():\n",
    "    triplet = row.pos_triplet.replace(\"[\", \"\")\n",
    "    triplet = triplet.replace(\"]\", \"\")\n",
    "    svo = triplet.split(\",\")\n",
    "    subject, obj = svo[0], svo[-1]\n",
    "    object_list = [subject, obj]\n",
    "    if not os.path.exists(matched_json_file_save_path.format(row.sentence_id, row.pos_image_id)):\n",
    "        with open(matched_json_file_save_path.format(row.sentence_id, row.pos_image_id), 'w') as f:\n",
    "            pos_image_list = get_dense_caption(row.pos_image_id)\n",
    "            pos_result = generate_caption_to_image(row.sentence, object_list, pos_image_list)\n",
    "            json.dump(pos_result, f)\n",
    "    if not os.path.exists(matched_json_file_save_path.format(row.sentence_id, row.neg_image_id)):\n",
    "        with open(matched_json_file_save_path.format(row.sentence_id, row.neg_image_id), 'w') as f:\n",
    "            neg_image_list = get_dense_caption(row.neg_image_id)\n",
    "            neg_result = generate_caption_to_image(row.sentence, object_list, neg_image_list)\n",
    "            json.dump(neg_result, f)"
   ]
  },
  {
   "cell_type": "code",
   "execution_count": null,
   "metadata": {},
   "outputs": [],
   "source": []
  }
 ],
 "metadata": {
  "kernelspec": {
   "display_name": "clip-torch",
   "language": "python",
   "name": "python3"
  },
  "language_info": {
   "codemirror_mode": {
    "name": "ipython",
    "version": 3
   },
   "file_extension": ".py",
   "mimetype": "text/x-python",
   "name": "python",
   "nbconvert_exporter": "python",
   "pygments_lexer": "ipython3",
   "version": "3.9.12"
  },
  "orig_nbformat": 4
 },
 "nbformat": 4,
 "nbformat_minor": 2
}
