{
 "cells": [
  {
   "cell_type": "code",
   "execution_count": 1,
   "metadata": {},
   "outputs": [],
   "source": [
    "import openai\n",
    "openai.api_key = \"***\"\n",
    "import json\n",
    "import time\n",
    "import os\n",
    "from json import JSONDecodeError\n",
    "data = json.load(open('./vl_checklist.json')) ## Json file for sampled 2000 vl-checklist data\n",
    "SAVE_MATCHING_FILE = \"../vl-checklist-matching-json/{}_{}.json\"\n",
    "CAPTION_PATH = \"../vl-checklist-caption-json/{}.json\"\n",
    "TEXT_PATH = \"../vl-checklist-text-json/{}_{}.json\""
   ]
  },
  {
   "cell_type": "code",
   "execution_count": 2,
   "metadata": {},
   "outputs": [],
   "source": [
    "def get_dense_caption(id):\n",
    "    f = open(CAPTION_PATH.format(id))\n",
    "    result = list(json.load(f).keys())\n",
    "    return result\n",
    "def get_sentence_json(row_id, pos_or_neg):\n",
    "    f = open(TEXT_PATH.format(row_id, pos_or_neg))\n",
    "    try:\n",
    "        result = json.load(f)\n",
    "        if type(result) == dict:\n",
    "            return list(result[\"objects\"].keys())\n",
    "        else:\n",
    "            return list(json.loads(result)[\"objects\"].keys())\n",
    "    except Exception as e:\n",
    "        return list(json.loads(result)[\"objects\"].keys())"
   ]
  },
  {
   "cell_type": "code",
   "execution_count": 15,
   "metadata": {},
   "outputs": [],
   "source": [
    "def match_objects(sentence, object, list):\n",
    "    try:\n",
    "        input = \"Given a list of labels in triple quotes \\\"\\\"\\\"{}\\\"\\\"\\\" \".format(list) + \\\n",
    "                \"and a sentence in triple quotes \\\"\\\"\\\"{}\\\"\\\"\\\". Tell me which labels in the list could refer to \".format(sentence) + \\\n",
    "                \"the \\\"{}\\\" from the sentence. Only output the results in json format with 1 key named labels. If none of the labels refer to the \\\"{}\\\", set the value in the json to be an empty list\".format(object, object)\n",
    "        completion = openai.ChatCompletion.create(model=\"gpt-3.5-turbo\", messages=[{\"role\": \"user\", \"content\": input}], temperature=0)\n",
    "        return json.loads(completion[\"choices\"][0][\"message\"][\"content\"])\n",
    "    except Exception as e:\n",
    "        raise e\n",
    "def generate_caption_to_image(caption, obejct_list, image_list):\n",
    "    result = {}\n",
    "    for object in obejct_list:\n",
    "        matched = match_objects(caption, object, image_list)[\"labels\"]\n",
    "        result[object] = matched\n",
    "    return result"
   ]
  },
  {
   "cell_type": "code",
   "execution_count": null,
   "metadata": {},
   "outputs": [],
   "source": [
    "for idx, i in enumerate(data):\n",
    "    if not (os.path.exists(SAVE_MATCHING_FILE.format(idx, \"pos\").format(idx)) and os.path.exists(SAVE_MATCHING_FILE.format(idx, \"neg\"))):\n",
    "        try:\n",
    "            print(idx)\n",
    "            image_list = get_dense_caption(idx)\n",
    "            pos_object_list = get_sentence_json(idx, 'pos')\n",
    "            neg_object_list = get_sentence_json(idx, 'neg')\n",
    "            pos_match =  generate_caption_to_image(i[1][\"POS\"][0], pos_object_list, image_list)\n",
    "            with open(SAVE_MATCHING_FILE.format(idx, \"pos\"), 'w') as f:\n",
    "                json.dump(pos_match, f)\n",
    "            neg_match =  generate_caption_to_image(i[1][\"NEG\"][0], neg_object_list, image_list)\n",
    "            with open(SAVE_MATCHING_FILE.format(idx, \"neg\"), 'w') as f:\n",
    "                json.dump(neg_match, f)\n",
    "        except JSONDecodeError as e:\n",
    "            print(e)\n",
    "        except FileNotFoundError as e:\n",
    "            print(e)\n"
   ]
  }
 ],
 "metadata": {
  "kernelspec": {
   "display_name": "clip-torch",
   "language": "python",
   "name": "python3"
  },
  "language_info": {
   "codemirror_mode": {
    "name": "ipython",
    "version": 3
   },
   "file_extension": ".py",
   "mimetype": "text/x-python",
   "name": "python",
   "nbconvert_exporter": "python",
   "pygments_lexer": "ipython3",
   "version": "3.9.12"
  },
  "orig_nbformat": 4
 },
 "nbformat": 4,
 "nbformat_minor": 2
}
