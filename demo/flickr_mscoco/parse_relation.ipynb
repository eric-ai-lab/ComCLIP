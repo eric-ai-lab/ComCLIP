{
 "cells": [
  {
   "cell_type": "code",
   "execution_count": null,
   "metadata": {},
   "outputs": [],
   "source": [
    "import openai\n",
    "openai.api_key = \"****\"\n",
    "import json\n",
    "import pandas as pd\n",
    "SAVE_TEXT_JSON_PATH = \"../text-json/{}.json\"\n",
    "data = pd.read_pickle(\"dataset.pkl\") ## Flickr30k or MSCOCO dataset\n"
   ]
  },
  {
   "cell_type": "code",
   "execution_count": 55,
   "metadata": {},
   "outputs": [],
   "source": [
    "def get_relation(text):\n",
    "    input = \"Given a sentence in triple quotes \\\"\\\"\\\"{}\\\"\\\"\\\", analyze the objects in this sentence, the attributes of the objects \".format(text) \\\n",
    "        + \"and how each objects connected. For example. for sentence \\\"\\\"\\\"young person sit on a boat\\\"\\\"\\\"\" + \\\n",
    "        \", the output is {\\\"objects\\\": {\\\"person\\\" : {\\\"attributes\\\": \\\"young\\\"}, \\\"boat\\\":\" + \\\n",
    "        \"{\\\"attributes\\\": null}}, \\\"connections\\\": [{\\\"subject\\\": \\\"person\\\",\\\"verb\\\"\" + \\\n",
    "        \": \\\"sit\\\", \\\"object\\\": \\\"boat\\\"}]}. Just output the json exactly like the format in example. \"\n",
    "    completion = openai.ChatCompletion.create(model=\"gpt-3.5-turbo\", messages=[{\"role\": \"user\", \"content\": input}], temperature=0)\n",
    "    return completion[\"choices\"][0][\"message\"][\"content\"]"
   ]
  },
  {
   "cell_type": "code",
   "execution_count": 4,
   "metadata": {},
   "outputs": [],
   "source": [
    "for idx, row in data.iterrows():\n",
    "    if not os.path.exists(SAVE_TEXT_JSON_PATH.format(idx)):\n",
    "        result = get_relation(row.sentence)\n",
    "        with open(SAVE_TEXT_JSON_PATH.format(idx), 'w') as f:\n",
    "            json.dump(result, f)"
   ]
  }
 ],
 "metadata": {
  "kernelspec": {
   "display_name": "clip-torch",
   "language": "python",
   "name": "python3"
  },
  "language_info": {
   "codemirror_mode": {
    "name": "ipython",
    "version": 3
   },
   "file_extension": ".py",
   "mimetype": "text/x-python",
   "name": "python",
   "nbconvert_exporter": "python",
   "pygments_lexer": "ipython3",
   "version": "3.9.12"
  },
  "orig_nbformat": 4
 },
 "nbformat": 4,
 "nbformat_minor": 2
}
