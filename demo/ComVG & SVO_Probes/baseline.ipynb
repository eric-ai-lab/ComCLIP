{
 "cells": [
  {
   "cell_type": "code",
   "execution_count": 1,
   "metadata": {},
   "outputs": [
    {
     "name": "stdout",
     "output_type": "stream",
     "text": [
      "Torch version: 2.0.1+cu117\n"
     ]
    }
   ],
   "source": [
    "import numpy as np\n",
    "import torch\n",
    "print(\"Torch version:\", torch.__version__)\n",
    "from torchvision import transforms, utils\n",
    "from barbar import Bar\n",
    "from parse_image import *\n",
    "import clip\n",
    "import torch\n",
    "from PIL import Image\n",
    "GPU = 0\n",
    "data_path = \"path/to/csv.csv\" ## ComVG or SVO_Probes path"
   ]
  },
  {
   "cell_type": "code",
   "execution_count": 3,
   "metadata": {},
   "outputs": [],
   "source": [
    "#Replace with correct model version\n",
    "model, preprocess = clip.load(\"RN50\", device='cpu')\n",
    "model.cuda(GPU).eval()"
   ]
  },
  {
   "cell_type": "code",
   "execution_count": null,
   "metadata": {},
   "outputs": [],
   "source": [
    "import pandas as pd\n",
    "data = pd.read_csv(data_path)\n",
    "data.head(1)"
   ]
  },
  {
   "cell_type": "code",
   "execution_count": 6,
   "metadata": {},
   "outputs": [],
   "source": [
    "clip_scores = []\n",
    "for idx, row in data.iterrows():\n",
    "    text_tokens = clip.tokenize([row.sentence]).cuda(GPU)\n",
    "    image_pos, image_neg = preprocess(read_image(row.pos_image_id)), preprocess(read_image(row.neg_image_id))\n",
    "    images = [image_pos, image_neg]\n",
    "    image_input = torch.tensor(np.stack(images)).cuda(GPU)\n",
    "    with torch.no_grad():\n",
    "        image_features = model.encode_image(image_input).float()\n",
    "        text_features = model.encode_text(text_tokens).float()\n",
    "    image_features /= image_features.norm(dim=-1, keepdim=True)\n",
    "    text_features /= text_features.norm(dim=-1, keepdim=True)\n",
    "    similarity = text_features.cpu().numpy() @ image_features.cpu().numpy().T\n",
    "    clip_scores.append({\"id\":idx, \"pos_score\": similarity[0][0], \"neg_score\": similarity[0][1]})"
   ]
  },
  {
   "cell_type": "code",
   "execution_count": null,
   "metadata": {},
   "outputs": [],
   "source": [
    "all_verb = 0\n",
    "verb_faile = 0 \n",
    "acc = 0\n",
    "for i in clip_scores:\n",
    "    if i[\"pos_score\"] > i[\"neg_score\"]:\n",
    "        acc += 1\n",
    "acc / len(clip_scores)"
   ]
  }
 ],
 "metadata": {
  "kernelspec": {
   "display_name": "Python 3.9.7 ('clip-torch')",
   "language": "python",
   "name": "python3"
  },
  "language_info": {
   "codemirror_mode": {
    "name": "ipython",
    "version": 3
   },
   "file_extension": ".py",
   "mimetype": "text/x-python",
   "name": "python",
   "nbconvert_exporter": "python",
   "pygments_lexer": "ipython3",
   "version": "3.9.12"
  },
  "orig_nbformat": 4,
  "vscode": {
   "interpreter": {
    "hash": "88beffe3055ef9797590ee073211e9aee9c8621e04d2e6cfacd27b0cbc9abf46"
   }
  }
 },
 "nbformat": 4,
 "nbformat_minor": 2
}
