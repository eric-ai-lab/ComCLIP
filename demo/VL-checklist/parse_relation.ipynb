{
 "cells": [
  {
   "cell_type": "code",
   "execution_count": 12,
   "metadata": {},
   "outputs": [],
   "source": [
    "import openai\n",
    "openai.api_key = \"\"\n",
    "import json\n",
    "import os\n",
    "data = json.load(open('./vl_checklist.json')) ## Json file for sampled 2000 vl-checklist data\n",
    "SAVE_TEXT_FILE = \"../vl-checklist-text-json/\""
   ]
  },
  {
   "cell_type": "code",
   "execution_count": 67,
   "metadata": {},
   "outputs": [],
   "source": [
    "def get_relation(text):\n",
    "    input = \"Given a sentence in triple quotes \\\"\\\"\\\"{}\\\"\\\"\\\", analyze the objects in this sentence, the attributes of the objects \".format(text) \\\n",
    "        + \"and how each objects connected. For example. for sentence \\\"\\\"\\\"young person sit on a boat\\\"\\\"\\\"\" + \\\n",
    "        \", the output is {\\\"objects\\\": {\\\"person\\\" : {\\\"attributes\\\": \\\"young\\\"}, \\\"boat\\\":\" + \\\n",
    "        \"{\\\"attributes\\\": null}}, \\\"connections\\\": [{\\\"subject\\\": \\\"person\\\",\\\"verb\\\"\" + \\\n",
    "        \": \\\"sit\\\", \\\"object\\\": \\\"boat\\\"}]}. Just output the json exactly like the format in example. \"\n",
    "    completion = openai.ChatCompletion.create(model=\"gpt-3.5-turbo\", messages=[{\"role\": \"user\", \"content\": input}], temperature=0.7)\n",
    "    return completion[\"choices\"][0][\"message\"][\"content\"]"
   ]
  },
  {
   "cell_type": "code",
   "execution_count": null,
   "metadata": {},
   "outputs": [],
   "source": [
    "for idx, row in enumerate(data):\n",
    "    if not (os.path.exists(SAVE_TEXT_FILE+'{}_pos.json'.format(idx)) and os.path.exists(SAVE_TEXT_FILE+'{}_neg.json'.format(idx))):\n",
    "        pos = row[1][\"POS\"][0]\n",
    "        neg = row[1][\"NEG\"][0]\n",
    "        result_pos = get_relation(pos)\n",
    "        result_neg = get_relation(neg)\n",
    "        with open(SAVE_TEXT_FILE+'{}_pos.json'.format(idx), 'w') as f:\n",
    "            json.dump(result_pos, f)\n",
    "        with open(SAVE_TEXT_FILE+'{}_neg.json'.format(idx), 'w') as f:\n",
    "            json.dump(result_neg, f)"
   ]
  }
 ],
 "metadata": {
  "kernelspec": {
   "display_name": "clip-torch",
   "language": "python",
   "name": "python3"
  },
  "language_info": {
   "codemirror_mode": {
    "name": "ipython",
    "version": 3
   },
   "file_extension": ".py",
   "mimetype": "text/x-python",
   "name": "python",
   "nbconvert_exporter": "python",
   "pygments_lexer": "ipython3",
   "version": "3.9.12"
  },
  "orig_nbformat": 4
 },
 "nbformat": 4,
 "nbformat_minor": 2
}
