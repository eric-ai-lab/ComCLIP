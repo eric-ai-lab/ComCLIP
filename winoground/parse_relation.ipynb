{
 "cells": [
  {
   "cell_type": "code",
   "execution_count": null,
   "metadata": {},
   "outputs": [],
   "source": [
    "from datasets import load_dataset\n",
    "winoground = load_dataset(\"facebook/winoground\", use_auth_token=auth_token)[\"test\"]\n",
    "import openai\n",
    "openai.api_key = \"****\"\n",
    "import json\n",
    "CAPTION_PATH = \"../winoground-caption-json/row_{}_img_{}.json\"\n",
    "SAVE_TEXT_JSON_PATH = '../winoground_text_json/{}_{}.json'"
   ]
  },
  {
   "cell_type": "code",
   "execution_count": 2,
   "metadata": {},
   "outputs": [],
   "source": [
    "def get_caption(id, image_id):\n",
    "    f = open(CAPTION_PATH)\n",
    "    result = list(json.load(f).keys())\n",
    "    return result"
   ]
  },
  {
   "cell_type": "code",
   "execution_count": 3,
   "metadata": {},
   "outputs": [],
   "source": [
    "def get_relation(text):\n",
    "    input = \"Given a sentence in triple quotes \\\"\\\"\\\"{}\\\"\\\"\\\", analyze the objects in this sentence, the attributes of the objects \".format(text) \\\n",
    "        + \"and how each objects connected. For example. for sentence \\\"\\\"\\\"young person sit on a boat\\\"\\\"\\\"\" + \\\n",
    "        \", the output is {\\\"objects\\\": {\\\"person\\\" : {\\\"attributes\\\": \\\"young\\\"}, \\\"boat\\\":\" + \\\n",
    "        \"{\\\"attributes\\\": null}}, \\\"connections\\\": [{\\\"subject\\\": \\\"person\\\",\\\"verb\\\"\" + \\\n",
    "        \": \\\"sit\\\", \\\"object\\\": \\\"boat\\\"}]}. Just output the json exactly like the format in example. \"\n",
    "    completion = openai.ChatCompletion.create(model=\"gpt-3.5-turbo\", messages=[{\"role\": \"user\", \"content\": input}], temperature=0)\n",
    "    return completion[\"choices\"][0][\"message\"][\"content\"]"
   ]
  },
  {
   "cell_type": "code",
   "execution_count": null,
   "metadata": {},
   "outputs": [],
   "source": [
    "for i in range(len(winoground)):\n",
    "    print(i)\n",
    "    result_0 = get_relation(winoground[i][\"caption_0\"])\n",
    "    with open(SAVE_TEXT_JSON_PATH.format(i, 0), 'w') as f:\n",
    "        json.dump(result_0, f)\n",
    "    result_1 = get_relation(winoground[i][\"caption_1\"])\n",
    "    with open(SAVE_TEXT_JSON_PATH.format(i, 1), 'w') as f:\n",
    "        json.dump(result_1, f)"
   ]
  }
 ],
 "metadata": {
  "kernelspec": {
   "display_name": "clip-torch",
   "language": "python",
   "name": "python3"
  },
  "language_info": {
   "codemirror_mode": {
    "name": "ipython",
    "version": 3
   },
   "file_extension": ".py",
   "mimetype": "text/x-python",
   "name": "python",
   "nbconvert_exporter": "python",
   "pygments_lexer": "ipython3",
   "version": "3.9.12"
  },
  "orig_nbformat": 4
 },
 "nbformat": 4,
 "nbformat_minor": 2
}
