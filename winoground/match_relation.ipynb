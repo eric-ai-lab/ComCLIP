{
 "cells": [
  {
   "cell_type": "code",
   "execution_count": null,
   "metadata": {},
   "outputs": [],
   "source": [
    "from datasets import load_dataset\n",
    "auth_token = \"*******\"\n",
    "winoground = load_dataset(\"facebook/winoground\", use_auth_token=auth_token)[\"test\"]\n",
    "import openai\n",
    "import json\n",
    "openai.api_key = \"******\"\n",
    "from json import JSONDecodeError\n",
    "import time\n",
    "CAPTION_PATH = \"../winoground-caption-json/row_{}_img_{}.json\"\n",
    "TEXT_JSON_PATH = '../winoground_text_json/{}_{}.json'\n",
    "SAVE_MATCHING_PATH = '../winoground_matching/{}_caption{}_image{}.json'"
   ]
  },
  {
   "cell_type": "code",
   "execution_count": 9,
   "metadata": {},
   "outputs": [],
   "source": [
    "def get_dense_caption(id, image_id):\n",
    "    f = open(CAPTION_PATH.format(id, image_id))\n",
    "    result = list(json.load(f).keys())\n",
    "    return result\n",
    "def get_sentence_json(row_id, caption_id):\n",
    "    f = open(TEXT_JSON_PATH.format(row_id, caption_id))\n",
    "    result = json.load(f)\n",
    "    return list(json.loads(result)[\"objects\"].keys())"
   ]
  },
  {
   "cell_type": "code",
   "execution_count": 25,
   "metadata": {},
   "outputs": [],
   "source": [
    "def match_objects(sentence, object, list):\n",
    "    try:\n",
    "        input = \"Given a list of labels in triple quotes \\\"\\\"\\\"{}\\\"\\\"\\\" \".format(list) + \\\n",
    "                \"and a sentence in triple quotes \\\"\\\"\\\"{}\\\"\\\"\\\". Tell me which labels in the list could refer to \".format(sentence) + \\\n",
    "                \"the \\\"{}\\\" from the sentence. Only output the results in json format with 1 key named labels. If none of the labels refer to the \\\"{}\\\", set the value in the json to be an empty list\".format(object, object)\n",
    "        completion = openai.ChatCompletion.create(model=\"gpt-3.5-turbo\", messages=[{\"role\": \"user\", \"content\": input}], temperature=0)\n",
    "        return json.loads(completion[\"choices\"][0][\"message\"][\"content\"])\n",
    "    except Exception as e:\n",
    "        return {\"labels\":[]}\n",
    "def generate_caption_to_image(caption, obejct_list, image_list):\n",
    "    result = {}\n",
    "    for object in obejct_list:\n",
    "        result[object] = match_objects(caption, object, image_list)[\"labels\"]\n",
    "    return result"
   ]
  },
  {
   "cell_type": "code",
   "execution_count": null,
   "metadata": {},
   "outputs": [],
   "source": [
    "for i in range(400):\n",
    "    caption_0 = winoground[i][\"caption_0\"]\n",
    "    caption_1 = winoground[i][\"caption_1\"]\n",
    "    caption_0_objects = get_sentence_json(i, 0)\n",
    "    caption_1_objects = get_sentence_json(i, 1)\n",
    "    image_0_list = get_dense_caption(i, 0)\n",
    "    image_1_list = get_dense_caption(i, 1)\n",
    "    with open(SAVE_MATCHING_PATH.format(i, 0, 0), 'w') as f:\n",
    "        caption_0_image_0 = generate_caption_to_image(caption_0, caption_0_objects, image_0_list)\n",
    "        json.dump(caption_0_image_0, f)\n",
    "    with open(SAVE_MATCHING_PATH.format(i, 0, 1), 'w') as f:\n",
    "        caption_0_image_1 = generate_caption_to_image(caption_0, caption_0_objects, image_1_list)\n",
    "        json.dump(caption_0_image_1, f)\n",
    "    with open(SAVE_MATCHING_PATH.format(i, 1, 0), 'w') as f:\n",
    "        caption_1_image_0 = generate_caption_to_image(caption_1, caption_1_objects, image_0_list)\n",
    "        json.dump(caption_1_image_0, f)\n",
    "    with open(SAVE_MATCHING_PATH.format(i, 1, 1), 'w') as f:\n",
    "        caption_1_image_1 = generate_caption_to_image(caption_1, caption_1_objects, image_1_list)\n",
    "        json.dump(caption_1_image_1, f)\n",
    "    time.sleep(1)\n",
    "    "
   ]
  }
 ],
 "metadata": {
  "kernelspec": {
   "display_name": "clip-torch",
   "language": "python",
   "name": "python3"
  },
  "language_info": {
   "codemirror_mode": {
    "name": "ipython",
    "version": 3
   },
   "file_extension": ".py",
   "mimetype": "text/x-python",
   "name": "python",
   "nbconvert_exporter": "python",
   "pygments_lexer": "ipython3",
   "version": "3.9.12"
  },
  "orig_nbformat": 4
 },
 "nbformat": 4,
 "nbformat_minor": 2
}
