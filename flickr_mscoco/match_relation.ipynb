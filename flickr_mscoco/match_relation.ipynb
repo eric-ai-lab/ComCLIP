{
 "cells": [
  {
   "cell_type": "code",
   "execution_count": null,
   "metadata": {},
   "outputs": [],
   "source": [
    "import openai\n",
    "openai.api_key = \"******\"\n",
    "import json\n",
    "import pandas as pd\n",
    "import os\n",
    "from json import JSONDecodeError\n",
    "\n",
    "DATA_PICKLE_PATH = \"../path/to/dataset.pkl\" ## Flickr30k or MSCOCO dataset\n",
    "DENSE_CAPTION_FILE_PATH = \"../dense_caption/folder/{}.json\"\n",
    "TEXT_RELATION_FILE_PATH = \"../text-json/{}.json\"\n",
    "SAVE_MATCHING_PATH = '../matching/row_{}_image_{}.json'"
   ]
  },
  {
   "cell_type": "code",
   "execution_count": 2,
   "metadata": {},
   "outputs": [],
   "source": [
    "def get_dense_caption(image_id):\n",
    "    f = open(DENSE_CAPTION_FILE_PATH.format(image_id))\n",
    "    result = list(json.load(f).keys())\n",
    "    return result\n",
    "def get_sentence_json(row_id):\n",
    "    f = open(TEXT_RELATION_FILE_PATH.format(row_id))\n",
    "    try:\n",
    "        result = json.load(f)\n",
    "        if type(result) == dict:\n",
    "            return list(result[\"objects\"].keys())\n",
    "        else:\n",
    "            return list(json.loads(result)[\"objects\"].keys())\n",
    "    except Exception as e:\n",
    "        return list(json.loads(result)[\"objects\"].keys())"
   ]
  },
  {
   "cell_type": "code",
   "execution_count": 4,
   "metadata": {},
   "outputs": [],
   "source": [
    "def match_objects(sentence, object, list):\n",
    "    try:\n",
    "        input = \"Given a list of labels in triple quotes \\\"\\\"\\\"{}\\\"\\\"\\\" \".format(list) + \\\n",
    "                \"and a sentence in triple quotes \\\"\\\"\\\"{}\\\"\\\"\\\". Tell me which labels in the list could refer to \".format(sentence) + \\\n",
    "                \"the \\\"{}\\\" from the sentence. Only output the results in json format with 1 key named labels. If none of the labels refer to the \\\"{}\\\", set the value in the json to be an empty list\".format(object, object)\n",
    "        completion = openai.ChatCompletion.create(model=\"gpt-3.5-turbo\", messages=[{\"role\": \"user\", \"content\": input}], temperature=0)\n",
    "        return json.loads(completion[\"choices\"][0][\"message\"][\"content\"])\n",
    "    except Exception as e:\n",
    "        raise e\n",
    "def generate_caption_to_image(caption, obejct_list, image_list):\n",
    "    result = {}\n",
    "    for object in obejct_list:\n",
    "        matched = match_objects(caption, object, image_list)[\"labels\"]\n",
    "        result[object] = matched\n",
    "    return result"
   ]
  },
  {
   "cell_type": "code",
   "execution_count": null,
   "metadata": {},
   "outputs": [],
   "source": [
    "data = pd.read_pickle(DATA_PICKLE_PATH)\n",
    "for idx, row in data.iterrows():\n",
    "    candidates = row.candidates_ten\n",
    "    candidates = [item[0] for item in candidates]\n",
    "    for image_id in candidates:\n",
    "        if not os.path.exists(SAVE_MATCHING_PATH.format(idx, image_id)):\n",
    "            try:\n",
    "                image_list = get_dense_caption(image_id)\n",
    "                object_list = get_sentence_json(idx)\n",
    "                match = generate_caption_to_image(row.sentence, object_list, image_list)\n",
    "                with open(SAVE_MATCHING_PATH.format(idx, image_id), 'w') as f:\n",
    "                    json.dump(match, f)\n",
    "            except JSONDecodeError as e:\n",
    "                print(\"failed {} {}\".format(idx, image_id))\n",
    "            except FileNotFoundError as e:\n",
    "                print(\"failed {} {}\".format(idx, image_id))\n"
   ]
  }
 ],
 "metadata": {
  "kernelspec": {
   "display_name": "clip-torch",
   "language": "python",
   "name": "python3"
  },
  "language_info": {
   "codemirror_mode": {
    "name": "ipython",
    "version": 3
   },
   "file_extension": ".py",
   "mimetype": "text/x-python",
   "name": "python",
   "nbconvert_exporter": "python",
   "pygments_lexer": "ipython3",
   "version": "3.9.12"
  },
  "orig_nbformat": 4
 },
 "nbformat": 4,
 "nbformat_minor": 2
}
